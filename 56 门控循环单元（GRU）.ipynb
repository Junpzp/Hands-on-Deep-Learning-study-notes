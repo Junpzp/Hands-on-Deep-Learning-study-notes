{
 "cells": [
  {
   "cell_type": "markdown",
   "metadata": {},
   "source": [
    "### [56 门控循环单元（GRU）](https://www.bilibili.com/video/BV1mf4y157N2/?spm_id_from=333.788.recommend_more_video.0)"
   ]
  },
  {
   "cell_type": "markdown",
   "metadata": {},
   "source": [
    "- 不是每个的观察值都同样重要\n",
    "- 例如大量重复出现的可能就不重要,我们关注的比较重要等等\n",
    "    - 对于重要数据,可以采用更新门\n",
    "    - 对于不那么重要的机制,可以采用重置门\n",
    "- 门的实现\n",
    "  - $R_t= \\sigma(X_t W_{xr}+H_{t-1} W_{hr} + b_r)$\n",
    "  - $Z_t= \\sigma(X_t W_{xz}+H_{t-1} W_{hz} + b_z)$"
   ]
  },
  {
   "cell_type": "code",
   "execution_count": null,
   "metadata": {},
   "outputs": [],
   "source": []
  }
 ],
 "metadata": {
  "language_info": {
   "name": "python"
  },
  "orig_nbformat": 4
 },
 "nbformat": 4,
 "nbformat_minor": 2
}
