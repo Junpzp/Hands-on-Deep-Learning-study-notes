{
 "cells": [
  {
   "cell_type": "markdown",
   "metadata": {},
   "source": [
    "[29 残差网络 ResNet](https://www.bilibili.com/video/BV1bV41177ap?spm_id_from=333.999.0.0)\n",
    "- 我夸我自己\n",
    "- 加深层数一定会带来更好的结果吗？\n",
    "- 如果优化的方向错误，那么越优化有可能离最优结果越远\n",
    "- <img src=\"picture\\屏幕截图 2022-05-16 230430.png\"></a>\n",
    "- 核心思想残差块\n",
    "- 不预测整个数据，改为预测一阶差分\n",
    "- <img src=\"picture\\屏幕截图 2022-05-17 003400.png\"></a>\n",
    "- 这里可以看到，并不是直接进行一阶差分，而是增加了一个1X1卷积层变换\n",
    "- <img src=\"picture\\屏幕截图 2022-05-17 003800.png\"></a>\n",
    "- 同理，残差可以在不同的层输出，从而获得不同的残差块\n",
    "- 可能是也不知道怎么好，排列组合试一遍\n",
    "- <img src=\"picture\\屏幕截图 2022-05-17 004306.png\"></a>\n",
    "- ResNet架构\n",
    "    - 总体而言是类似于VGG和GoogleNet的网络\n",
    "    - 不过把vgg块替换成resnet块"
   ]
  },
  {
   "cell_type": "code",
   "execution_count": 1,
   "metadata": {},
   "outputs": [],
   "source": [
    "# 第一步，定义残差块\n",
    "import torch\n",
    "from torch import nn\n",
    "from torch.nn import functional as F\n",
    "from d2l import torch as d2l"
   ]
  },
  {
   "cell_type": "code",
   "execution_count": null,
   "metadata": {},
   "outputs": [],
   "source": [
    "class Residual(nn.Module):\n",
    "    def __init__(self,input_channels,num_channels,use_1x1conv=False, strides=1):\n",
    "        super().__init__()\n",
    "        self.conv1 = nn.Conv2d(input_channels, num_channels,kernel_size=3, padding=1, stride=strides)\n",
    "        self.conv2 = nn.Conv2d(num_channels, num_channels,kernel_size=3, padding=1)\n",
    "        # 是否对输出使用1X1卷积层\n",
    "        if use_1x1conv:\n",
    "            self.conv3 = nn.Conv2d(input_channels, num_channels,kernel_size=1, stride=strides)\n",
    "        else:\n",
    "            self.conv3 = None\n",
    "        self.bn1 = nn.BatchNorm2d(num_channels)\n",
    "        self.bn2 = nn.BatchNorm2d(num_channels)\n",
    "        self.relu = nn.ReLU(inplace=True) \n",
    "    \n",
    "    def forward(self,X):\n",
    "        Y = F.relu(self.bn1(self.conv1(X)))\n",
    "        Y = self.bn2(self.conv2(Y))\n",
    "        if self.conv3:\n",
    "            X = self.conv3(X)\n",
    "        # 这里是核心,输出残差\n",
    "        # 这里需要注意的是，设计Resnet，Y的shape需要和X保持一致\n",
    "        Y += X\n",
    "        return F.relu(Y)\n"
   ]
  },
  {
   "cell_type": "code",
   "execution_count": null,
   "metadata": {},
   "outputs": [],
   "source": [
    "blk = Residual(3,3)\n",
    "X = torch.rand(4, 3, 6, 6)\n",
    "Y = blk(X)\n",
    "Y.shape"
   ]
  },
  {
   "cell_type": "code",
   "execution_count": null,
   "metadata": {},
   "outputs": [],
   "source": [
    "X = torch.rand(4, 3, 6, 6)\n",
    "blk = Residual(3,6, use_1x1conv=True, strides=2)\n",
    "blk(X).shape"
   ]
  },
  {
   "cell_type": "code",
   "execution_count": null,
   "metadata": {},
   "outputs": [],
   "source": [
    "# ResNet模型\n",
    "# ResNet 的前两层跟之前介绍的GoogLeNet 中的⼀样：在输出通道数为64、步幅为2 的7X7 卷积层后，接\n",
    "# 步幅为2 的3X3 的最⼤汇聚层。不同之处在于ResNet 每个卷积层后增加了批量归⼀化层。\n",
    "b1 = nn.Sequential(\n",
    "    nn.Conv2d(1, 64, kernel_size=7, stride=2, padding=3),\n",
    "    nn.BatchNorm2d(64), nn.ReLU(),\n",
    "    nn.MaxPool2d(kernel_size=3, stride=2, padding=1))"
   ]
  },
  {
   "cell_type": "code",
   "execution_count": null,
   "metadata": {},
   "outputs": [],
   "source": [
    "# 这种写法之前比较少见，通过数组的形式添加层，在直接*args添加进Sequential\n",
    "def resnet_block(input_channels, num_channels, num_residuals,first_block=False):\n",
    "    blk = []\n",
    "    for i in range(num_residuals):\n",
    "        if i == 0 and not first_block:\n",
    "            blk.append(Residual(input_channels, num_channels,use_1x1conv=True, strides=2))\n",
    "        else:\n",
    "            blk.append(Residual(num_channels, num_channels))\n",
    "    return blk"
   ]
  },
  {
   "cell_type": "code",
   "execution_count": null,
   "metadata": {},
   "outputs": [],
   "source": [
    "b2 = nn.Sequential(*resnet_block(64, 64, 2, first_block=True))\n",
    "b3 = nn.Sequential(*resnet_block(64, 128, 2))\n",
    "b4 = nn.Sequential(*resnet_block(128, 256, 2))\n",
    "b5 = nn.Sequential(*resnet_block(256, 512, 2))"
   ]
  },
  {
   "cell_type": "code",
   "execution_count": null,
   "metadata": {},
   "outputs": [],
   "source": [
    "net = nn.Sequential(b1, b2, b3, b4, b5,\n",
    "    nn.AdaptiveAvgPool2d((1,1)),\n",
    "    nn.Flatten(), nn.Linear(512, 10))"
   ]
  },
  {
   "cell_type": "code",
   "execution_count": null,
   "metadata": {},
   "outputs": [],
   "source": [
    "X = torch.rand(size=(1, 1, 224, 224))\n",
    "for layer in net:\n",
    "    X = layer(X)\n",
    "    print(layer.__class__.__name__,'output shape:\\t', X.shape)"
   ]
  },
  {
   "cell_type": "code",
   "execution_count": null,
   "metadata": {},
   "outputs": [],
   "source": [
    "lr, num_epochs, batch_size = 0.05, 10, 256\n",
    "train_iter, test_iter = d2l.load_data_fashion_mnist(batch_size, resize=96)\n",
    "d2l.train_ch6(net, train_iter, test_iter, num_epochs, lr, d2l.try_gpu())"
   ]
  },
  {
   "cell_type": "markdown",
   "metadata": {},
   "source": [
    "Q/A\n",
    "- Q: 为什么使用残差就能够使得效果更好？按理来说也有可能变坏\n",
    "    - A：如果训练效果很好，相对应的差值也会小，对应梯度也会小， 参数将更新缓慢或者不更新，因此模型很难变坏"
   ]
  },
  {
   "cell_type": "markdown",
   "metadata": {},
   "source": [
    "[29.2 ResNet为什么能训练出1000层的模型](https://www.bilibili.com/video/BV1554y157E3/?spm_id_from=333.788.recommend_more_video.1)"
   ]
  },
  {
   "cell_type": "markdown",
   "metadata": {},
   "source": [
    "- resnet为什么能够训练1000层深度，而梯度不会消失？\n",
    "- <img src=\"picture\\屏幕截图 2022-05-18 002824.png\"></a>\n",
    "- <img src=\"picture\\屏幕截图 2022-05-18 003320.png\"></a>\n",
    "- <img src=\"picture\\屏幕截图 2022-05-18 003555.png\"></a>\n"
   ]
  }
 ],
 "metadata": {
  "interpreter": {
   "hash": "db1be6f39172faa660bce7f133330141f4fce14b9a8c52849f571eb71f2e9d01"
  },
  "kernelspec": {
   "display_name": "Python 3.8.13 ('d2l')",
   "language": "python",
   "name": "python3"
  },
  "language_info": {
   "codemirror_mode": {
    "name": "ipython",
    "version": 3
   },
   "file_extension": ".py",
   "mimetype": "text/x-python",
   "name": "python",
   "nbconvert_exporter": "python",
   "pygments_lexer": "ipython3",
   "version": "3.8.13"
  },
  "orig_nbformat": 4,
  "vscode": {
   "interpreter": {
    "hash": "a87850d9ebb06e4c32d926ea8a87fa2b237cc5e453bee0bc5ad4bf660fa020f7"
   }
  }
 },
 "nbformat": 4,
 "nbformat_minor": 2
}
