{
 "cells": [
  {
   "cell_type": "markdown",
   "metadata": {},
   "source": [
    "[29 残差网络 ResNet](https://www.bilibili.com/video/BV1bV41177ap?spm_id_from=333.999.0.0)\n",
    "- 我夸我自己\n",
    "- 加深层数一定会带来更好的结果吗？\n",
    "- 如果优化的方向错误，那么越优化有可能离最优结果越远\n",
    "- <img src=\"picture\\屏幕截图 2022-05-16 230430.png\"></a>\n",
    "- 核心思想残差块\n",
    "- 不预测整个数据，改为预测一阶差分\n",
    "- <img src=\"picture\\屏幕截图 2022-05-17 003400.png\"></a>\n",
    "- 这里可以看到，并不是直接进行一阶差分，而是增加了一个1X1卷积层变换\n",
    "- <img src=\"picture\\屏幕截图 2022-05-17 003800.png\"></a>\n",
    "- 同理，残差可以在不同的层输出，从而获得不同的残差块\n",
    "- 可能是也不知道怎么好，排列组合试一遍\n",
    "- <img src=\"picture\\屏幕截图 2022-05-17 004306.png\"></a>\n",
    "- ResNet架构\n",
    "    - 总体而言是类似于VGG和GoogleNet的网络\n",
    "    - 不过把vgg块替换成resnet块"
   ]
  },
  {
   "cell_type": "code",
   "execution_count": null,
   "metadata": {},
   "outputs": [],
   "source": []
  }
 ],
 "metadata": {
  "interpreter": {
   "hash": "9ff4e656d48086ea967ec377ef26a3ddd3b4429bca6c045e20f6b3e90b5d3e65"
  },
  "kernelspec": {
   "display_name": "Python 3.8.12 ('base')",
   "language": "python",
   "name": "python3"
  },
  "language_info": {
   "codemirror_mode": {
    "name": "ipython",
    "version": 3
   },
   "file_extension": ".py",
   "mimetype": "text/x-python",
   "name": "python",
   "nbconvert_exporter": "python",
   "pygments_lexer": "ipython3",
   "version": "3.8.12"
  },
  "orig_nbformat": 4
 },
 "nbformat": 4,
 "nbformat_minor": 2
}
