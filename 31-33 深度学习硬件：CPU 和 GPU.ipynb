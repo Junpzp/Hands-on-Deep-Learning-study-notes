{
 "cells": [
  {
   "cell_type": "markdown",
   "metadata": {},
   "source": [
    "[31 深度学习硬件：CPU 和 GPU](https://www.bilibili.com/video/BV1TU4y1j7Wd?spm_id_from=333.999.0.0)\n",
    "- 此领域不是很了解，知道即可\n",
    "- CPU: i7\n",
    "- DDR4 32G\n",
    "- GPU Titan X\n",
    "- 内存-L3-L2-L1-寄存器\n",
    "    - L1延时，0.5ns\n",
    "    - L2延时，7ns\n",
    "    - 内存延时，100ns以上\n",
    "- 加快方法：重要数据反复使用则暂存下来\n",
    "- 数据按顺序排好，使得能够实现预读\n",
    "- cpu一次性读取64字节，按行输入，速度能更快\n",
    "- cpu会提前预读下一个缓存线\n",
    "- 因此对于矩阵数据来说，按行排列速度远大于按列排列\n",
    "\n",
    "- 现代CPU往往是多核的\n",
    "- 超线程是共享寄存器的，对于深度学习并不一定能提升性能\n",
    "- <img src=\"picture\\屏幕截图 2022-05-21 011836.png\"></a>\n",
    "\n",
    "    "
   ]
  },
  {
   "cell_type": "markdown",
   "metadata": {},
   "source": [
    "[32 深度学习硬件：TPU和其他](https://www.bilibili.com/video/BV1VV41147PC/?spm_id_from=333.788.recommend_more_video.0)\n",
    "- <img src=\"picture\\屏幕截图 2022-05-22 182610.png\"></a>\n",
    "- <img src=\"picture\\屏幕截图 2022-05-22 183010.png\"></a>\n",
    "- <img src=\"picture\\屏幕截图 2022-05-22 183653.png\"></a>\n"
   ]
  },
  {
   "cell_type": "markdown",
   "metadata": {},
   "source": [
    "[33 单机多卡并行](https://www.bilibili.com/video/BV1vU4y1V7rd/?spm_id_from=333.788.recommend_more_video.0)\n",
    "- <img src=\"picture\\屏幕截图 2022-05-22 210336.png\"></a>\n",
    "- <img src=\"picture\\屏幕截图 2022-05-22 211420.png\"></a>\n",
    "- <img src=\"picture\\屏幕截图 2022-05-22 215902.png\"></a>\n",
    "- key-value-store用于储存每张显卡训练的结果，该层可能会位于cpu"
   ]
  }
 ],
 "metadata": {
  "interpreter": {
   "hash": "9ff4e656d48086ea967ec377ef26a3ddd3b4429bca6c045e20f6b3e90b5d3e65"
  },
  "kernelspec": {
   "display_name": "Python 3.8.12 ('base')",
   "language": "python",
   "name": "python3"
  },
  "language_info": {
   "name": "python",
   "version": "3.8.12"
  },
  "orig_nbformat": 4
 },
 "nbformat": 4,
 "nbformat_minor": 2
}
