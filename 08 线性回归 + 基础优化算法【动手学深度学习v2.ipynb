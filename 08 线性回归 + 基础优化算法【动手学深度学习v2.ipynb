{
 "cells": [
  {
   "cell_type": "markdown",
   "metadata": {},
   "source": [
    "[08 线性回归 + 基础优化算法【动手学深度学习v2】](https://www.bilibili.com/video/BV1PX4y1g7KC?spm_id_from=333.999.0.0)"
   ]
  },
  {
   "cell_type": "code",
   "execution_count": 1,
   "metadata": {},
   "outputs": [],
   "source": [
    "import torch\n",
    "import random\n",
    "from d2l import torch as d2l\n",
    "# 线性回归是最基础的模型\n",
    "# 线性回归可以看成是一个单层的神经网络"
   ]
  },
  {
   "cell_type": "markdown",
   "metadata": {},
   "source": [
    "- 基础优化方法\n",
    "  - 梯度下降\n",
    "    - 挑选一个初始值$w_0$\n",
    "    - 重复迭代参数t =1,2,3\n",
    "    - $$w_t = w_{t-1} -\\eta\\frac{\\partial \\iota}{\\partial w_{t-1}}$$\n",
    "    - 沿梯度方向将增加损失函数的值\n",
    "    - 学习率$\\eta$：步长的超参数\n"
   ]
  },
  {
   "cell_type": "markdown",
   "metadata": {},
   "source": [
    "- 从0开始实现线性回归\n",
    "- torch.matmul\n",
    "  - 是tensor的乘法，输入可以是高维的。当输入是都是二维时，就是普通的矩阵乘法，和tensor.mm函数用法相同。\n",
    "  - 当输入有多维时，把多出的一维作为batch提出来，其他部分做矩阵乘法。\n",
    "  - https://blog.csdn.net/qsmx666/article/details/105783610/\n",
    "- torch.normal(means, std, out=None)\n",
    "  - 返回一个张量，包含从给定参数means,std的离散正态分布中抽取随机数。"
   ]
  },
  {
   "cell_type": "code",
   "execution_count": 2,
   "metadata": {},
   "outputs": [],
   "source": [
    "def sys_data(w, b, num_example):\n",
    "    \"\"\"生成 y = xw+b+噪声\n",
    "    x返回的是宽度为len(w)，长为num_example的矩阵，元素按0，1正态分布\n",
    "    \"\"\"\n",
    "    x = torch.normal(0, 1, (num_example, len(w)))\n",
    "    y = torch.matmul(x, w) + b\n",
    "    y += torch.normal(0, 0.01, y.shape)\n",
    "    return x, y.reshape(-1, 1)\n",
    "\n",
    "true_w = torch.tensor([2.0, -3.0, 4.0])\n",
    "true_b = 4.2\n",
    "features, labels = sys_data(true_w, true_b, 1000)\n"
   ]
  },
  {
   "cell_type": "code",
   "execution_count": 3,
   "metadata": {},
   "outputs": [
    {
     "data": {
      "text/plain": [
       "torch.Size([1000, 3])"
      ]
     },
     "execution_count": 3,
     "metadata": {},
     "output_type": "execute_result"
    }
   ],
   "source": [
    "features.shape"
   ]
  },
  {
   "cell_type": "code",
   "execution_count": 4,
   "metadata": {},
   "outputs": [],
   "source": [
    "# d2l.set_figsize((10,8))\n",
    "# d2l.plt.scatter(features[:,1].detach().numpy()\n",
    "# ,labels.detach().numpy(),1)"
   ]
  },
  {
   "cell_type": "code",
   "execution_count": 5,
   "metadata": {},
   "outputs": [
    {
     "data": {
      "text/plain": [
       "<matplotlib.collections.PathCollection at 0x7f34239c32e0>"
      ]
     },
     "execution_count": 5,
     "metadata": {},
     "output_type": "execute_result"
    },
    {
     "data": {
      "image/png": "[encoded data removed]",
      "text/plain": [
       "<Figure size 432x360 with 1 Axes>"
      ]
     },
     "metadata": {
      "needs_background": "light"
     },
     "output_type": "display_data"
    }
   ],
   "source": [
    "import matplotlib.pyplot as plt\n",
    "%matplotlib inline\n",
    "plt.figure(figsize=(6,5))\n",
    "plt.scatter(features[:,1],labels)"
   ]
  },
  {
   "cell_type": "code",
   "execution_count": 6,
   "metadata": {},
   "outputs": [
    {
     "name": "stdout",
     "output_type": "stream",
     "text": [
      "tensor([[-0.3055, -0.9541,  1.0471],\n",
      "        [ 0.8989,  0.2597, -0.1024],\n",
      "        [ 1.0463, -0.5868,  1.3371],\n",
      "        [-0.0475, -1.1319,  0.7508],\n",
      "        [ 0.0891,  0.6820,  0.4406],\n",
      "        [ 0.8380,  0.0497,  0.3908],\n",
      "        [ 1.8967,  0.7590,  0.0213],\n",
      "        [ 0.4864,  1.6178,  1.3699],\n",
      "        [-0.1933,  0.1574, -0.9975],\n",
      "        [-0.5580, -1.3126,  1.4124]]) \n",
      " tensor([[10.6197],\n",
      "        [ 4.7985],\n",
      "        [13.3938],\n",
      "        [10.5002],\n",
      "        [ 4.1013],\n",
      "        [ 7.2873],\n",
      "        [ 5.7953],\n",
      "        [ 5.8051],\n",
      "        [-0.6503],\n",
      "        [12.6791]])\n"
     ]
    }
   ],
   "source": [
    "# 定义一个函数用于接收批量数据大小、特征矩阵和标签向量作为输入\n",
    "# 生成大小为batch_size的小批量\n",
    "# 从上一个生成的数据集中，采用迭代器的形式，从features中选出大小为batch_size的数据\n",
    "def data_iter(batch_size,features,labels):\n",
    "    num_examples = len(features)\n",
    "    indices = list(range(num_examples))\n",
    "    random.shuffle(indices)\n",
    "    for i in range(0,num_examples,batch_size):\n",
    "        # 从indices中取出长度为batch_size的数值生成张量\n",
    "        batch_indices = torch.tensor(\n",
    "            indices[i:min(i+batch_size,num_examples)])\n",
    "        # 生成器断点返回\n",
    "        yield features[batch_indices],labels[batch_indices]\n",
    "batch_size = 10\n",
    "for x,y in data_iter(batch_size,features,labels):\n",
    "    print(x,'\\n',y)\n",
    "    break"
   ]
  },
  {
   "cell_type": "code",
   "execution_count": 7,
   "metadata": {},
   "outputs": [
    {
     "data": {
      "text/plain": [
       "(tensor([[-0.0019],\n",
       "         [-0.0298],\n",
       "         [ 0.0069]], requires_grad=True),\n",
       " tensor([0.], requires_grad=True))"
      ]
     },
     "execution_count": 7,
     "metadata": {},
     "output_type": "execute_result"
    }
   ],
   "source": [
    "# 定义初始化模型\n",
    "w = torch.normal(0,0.01,size=(3,1),requires_grad=True)\n",
    "b = torch.zeros(1,requires_grad=True)\n",
    "w,b"
   ]
  },
  {
   "cell_type": "code",
   "execution_count": 8,
   "metadata": {},
   "outputs": [],
   "source": [
    "# 定义模型\n",
    "def linreg(x,w,b):\n",
    "    \"\"\"线性回归模型\"\"\"\n",
    "    return torch.matmul(x,w)+b"
   ]
  },
  {
   "cell_type": "code",
   "execution_count": 9,
   "metadata": {},
   "outputs": [],
   "source": [
    "def squares_loss(y_hat,y):\n",
    "    \"\"\"均方损失\"\"\"\n",
    "    return (y_hat-y.reshape(y_hat.shape))**2/2"
   ]
  },
  {
   "cell_type": "code",
   "execution_count": 10,
   "metadata": {},
   "outputs": [],
   "source": [
    "# 定义优化算法\n",
    "def sgd(params,lr,batch_size):\n",
    "    \"\"\"小批量随机梯度下降\n",
    "    参数更新不需要使用梯度\n",
    "    \"\"\"\n",
    "    with torch.no_grad():\n",
    "        for param in params:\n",
    "            param -= lr*param.grad/batch_size\n",
    "            param.grad.zero_()\n"
   ]
  },
  {
   "cell_type": "code",
   "execution_count": 11,
   "metadata": {},
   "outputs": [
    {
     "name": "stdout",
     "output_type": "stream",
     "text": [
      "epoch1,loss3.214520\n",
      "epoch2,loss0.466328\n",
      "epoch3,loss0.068035\n",
      "epoch4,loss0.009982\n",
      "epoch5,loss0.001508\n",
      "epoch6,loss0.000268\n",
      "epoch7,loss0.000084\n",
      "epoch8,loss0.000058\n",
      "epoch9,loss0.000054\n",
      "epoch10,loss0.000053\n"
     ]
    }
   ],
   "source": [
    "# 学习率\n",
    "lr = 0.01\n",
    "# 数据扫描次数\n",
    "num_epochs = 10\n",
    "net = linreg\n",
    "loss = squares_loss\n",
    "\n",
    "for epoch in range(num_epochs):\n",
    "    for x,y in data_iter(batch_size,features,labels):\n",
    "        # 计算x与y的小批量损失\n",
    "        l = loss(net(x,w,b),y)\n",
    "        # 计算损失函数的梯度\n",
    "        l.sum().backward()\n",
    "        # 使用参数梯度更新\n",
    "        sgd([w,b],lr,batch_size)\n",
    "    with torch.no_grad():\n",
    "        train_l = loss(net(features,w,b),labels)\n",
    "        print(f'epoch{epoch+1},loss{float(train_l.mean()):f}')\n"
   ]
  },
  {
   "cell_type": "code",
   "execution_count": 12,
   "metadata": {},
   "outputs": [
    {
     "name": "stdout",
     "output_type": "stream",
     "text": [
      "-0.24744177 -0.2509237 0.0034819245\n",
      "-3.572102 -3.5517004 0.020401716\n",
      "-4.1542745 -4.1506243 0.0036501884\n",
      "1.8578043 1.870824 0.013019681\n",
      "1.0157125 0.9983094 0.017403126\n",
      "-7.317166 -7.323821 0.006655216\n",
      "1.5638156 1.5696548 0.0058392286\n",
      "6.5121284 6.5327044 0.020576\n",
      "6.501393 6.497307 0.0040860176\n",
      "12.690601 12.672278 0.018322945\n"
     ]
    }
   ],
   "source": [
    "result = list(zip(net(features,w,b).detach().numpy(),labels.detach().numpy()))\n",
    "for x,y in result[:10]:\n",
    "    print(x[0],y[0],abs(x[0]-y[0]))"
   ]
  }
 ],
 "metadata": {
  "interpreter": {
   "hash": "b3ba2566441a7c06988d0923437866b63cedc61552a5af99d1f4fb67d367b25f"
  },
  "kernelspec": {
   "display_name": "Python 3.8.8 64-bit ('base': conda)",
   "language": "python",
   "name": "python3"
  },
  "language_info": {
   "codemirror_mode": {
    "name": "ipython",
    "version": 3
   },
   "file_extension": ".py",
   "mimetype": "text/x-python",
   "name": "python",
   "nbconvert_exporter": "python",
   "pygments_lexer": "ipython3",
   "version": "3.8.12"
  },
  "orig_nbformat": 4
 },
 "nbformat": 4,
 "nbformat_minor": 2
}
