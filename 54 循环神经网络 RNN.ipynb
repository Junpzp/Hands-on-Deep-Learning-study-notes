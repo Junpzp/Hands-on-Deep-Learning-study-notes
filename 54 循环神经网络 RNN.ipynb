{
 "cells": [
  {
   "cell_type": "markdown",
   "metadata": {},
   "source": [
    "[54 循环神经网络 RNN](https://www.bilibili.com/video/BV1D64y1z7CA?spm_id_from=333.999.0.0)\n",
    "- <img src=\"picture/屏幕截图 2022-05-31 191341.png\">\n",
    "- 新概念h：隐变量，这个变量是真实存在的，但无法被感知到的变量\n",
    "- 输出$o_t只能由隐变量h_t和x_{t-1}共同进行输出，不能由x_t直接输出$\n",
    "- $h_t = \\phi(W_{hh}h_{t-1}+W_{}{hx}X_{t-1}+b_h)$\n",
    "- $o_t = \\phi(W_{oh}+b_o)这里视频有误是W_{oh}$\n",
    "- <img src=\"picture/屏幕截图 2022-05-31 191542.png\">\n",
    "- 输出$o_t是作为当前时刻的预测值，预测x_t的值$\n",
    "- <img src=\"picture/屏幕截图 2022-05-31 193028.png\">"
   ]
  },
  {
   "cell_type": "markdown",
   "metadata": {},
   "source": [
    "- 困惑度 perplexity\n",
    "- 衡量一个模型的好坏可以用平均交叉熵来衡量\n",
    "- $$\\pi = \\frac{1}{n} \\sum_{t=1}^n -\\log P(x_t \\mid x_{t-1}, \\ldots, x_1)$$\n",
    "- p是语言模型的预测概率，$x_t$是真实词\n",
    "- 历史原因NLP使用$exp(\\pi)$来衡量（能够扩大相应的值，直接使用会太小）\n",
    "- 1表示完美。无穷大是最差情况"
   ]
  },
  {
   "cell_type": "markdown",
   "metadata": {},
   "source": [
    "- <img src=\"picture/屏幕截图 2022-05-31 230201.png\">\n",
    "- 主要应用\n",
    "- <img src=\"picture/屏幕截图 2022-05-31 231212.png\">"
   ]
  },
  {
   "cell_type": "code",
   "execution_count": 8,
   "metadata": {},
   "outputs": [],
   "source": [
    "# 开炼！\n",
    "%matplotlib inline\n",
    "import math\n",
    "import torch\n",
    "from torch import nn\n",
    "from torch.nn import functional as F\n",
    "from d2l import torch as d2l"
   ]
  },
  {
   "cell_type": "code",
   "execution_count": 13,
   "metadata": {},
   "outputs": [],
   "source": [
    "# 加载数据集\n",
    "batch_size,num_steps = 32,35\n",
    "train_iter,vocab = d2l.load_data_time_machine(batch_size,num_steps)"
   ]
  },
  {
   "cell_type": "code",
   "execution_count": 14,
   "metadata": {},
   "outputs": [
    {
     "data": {
      "text/plain": [
       "tensor([[1, 0, 0, 0, 0, 0, 0, 0, 0, 0, 0, 0, 0, 0, 0, 0, 0, 0, 0, 0, 0, 0, 0, 0,\n",
       "         0, 0, 0, 0],\n",
       "        [0, 0, 1, 0, 0, 0, 0, 0, 0, 0, 0, 0, 0, 0, 0, 0, 0, 0, 0, 0, 0, 0, 0, 0,\n",
       "         0, 0, 0, 0]])"
      ]
     },
     "execution_count": 14,
     "metadata": {},
     "output_type": "execute_result"
    }
   ],
   "source": [
    "# 独热编码\n",
    "F.one_hot(torch.tensor([0,2]),len(vocab))"
   ]
  }
 ],
 "metadata": {
  "interpreter": {
   "hash": "9ff4e656d48086ea967ec377ef26a3ddd3b4429bca6c045e20f6b3e90b5d3e65"
  },
  "kernelspec": {
   "display_name": "Python 3.8.12 ('base')",
   "language": "python",
   "name": "python3"
  },
  "language_info": {
   "codemirror_mode": {
    "name": "ipython",
    "version": 3
   },
   "file_extension": ".py",
   "mimetype": "text/x-python",
   "name": "python",
   "nbconvert_exporter": "python",
   "pygments_lexer": "ipython3",
   "version": "3.8.12"
  },
  "orig_nbformat": 4
 },
 "nbformat": 4,
 "nbformat_minor": 2
}
