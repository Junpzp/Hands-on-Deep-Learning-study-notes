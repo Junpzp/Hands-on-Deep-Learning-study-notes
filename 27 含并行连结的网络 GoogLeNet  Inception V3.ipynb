{
 "cells": [
  {
   "cell_type": "markdown",
   "metadata": {},
   "source": [
    "[27 含并行连结的网络 GoogLeNet / Inception V3](https://www.bilibili.com/video/BV1b5411g7Xo/?spm_id_from=333.788.recommend_more_video.0)\n",
    "- LeNet、AlexNet、VGG、NIN层都提出了自己的想法，给出了多种的搭建神经网络的办法\n",
    "- 但是问题来了，怎么去选择一个好的神经网络层？怎么选择才是对的？\n",
    "- GoogLeNet 给出了自己的答案\n",
    "- <img src=\"picture\\屏幕截图 2022-05-14 012714.png\"></a>\n",
    "- Inception块\n",
    "    - 提供了4条路径（四种方法），输入输出等同高宽，然后作为不同的通道叠加\n",
    "- <img src=\"picture\\屏幕截图 2022-05-14 012811.png\"></a>\n",
    "- 每个路径输出的通道数，可以自己来决定，相当于通过通道数来给每个路径分配权重\n",
    "- 至于为什么给每个通道分配这些数量，玄学吧？反正作者没解释过\n",
    "- inception块相比3X3和5x5卷积层有更少的参数和计算复杂度\n",
    "- <img src=\"picture\\屏幕截图 2022-05-14 014058.png\"></a>\n",
    "- 多个inception块叠加（一个stage一般意味着高宽减半操作）\n",
    "    - stage1、stage2 常规操作\n",
    "    - stage3、4、5：区别主要在于inception块的叠加次数\n",
    "- <img src=\"picture\\屏幕截图 2022-05-14 174850.png\"></a>\n",
    "\n",
    "\n"
   ]
  },
  {
   "cell_type": "code",
   "execution_count": null,
   "metadata": {},
   "outputs": [],
   "source": []
  }
 ],
 "metadata": {
  "interpreter": {
   "hash": "9ff4e656d48086ea967ec377ef26a3ddd3b4429bca6c045e20f6b3e90b5d3e65"
  },
  "kernelspec": {
   "display_name": "Python 3.8.12 ('base')",
   "language": "python",
   "name": "python3"
  },
  "language_info": {
   "name": "python",
   "version": "3.8.12"
  },
  "orig_nbformat": 4
 },
 "nbformat": 4,
 "nbformat_minor": 2
}
