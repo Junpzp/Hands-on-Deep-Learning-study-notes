{
 "cells": [
  {
   "cell_type": "markdown",
   "metadata": {},
   "source": [
    "[35 分布式训练](https://www.bilibili.com/video/BV1jU4y1G7iu/?spm_id_from=333.788.recommend_more_video.0)\n",
    "- <img src=\"picture\\屏幕截图 2022-05-23 220430.png\"></a>\n",
    "- 这部分暂时不看了，意义不大，穷"
   ]
  },
  {
   "cell_type": "code",
   "execution_count": null,
   "metadata": {
    "vscode": {
     "languageId": "plaintext"
    }
   },
   "outputs": [],
   "source": []
  }
 ],
 "metadata": {
  "language_info": {
   "name": "python"
  },
  "orig_nbformat": 4
 },
 "nbformat": 4,
 "nbformat_minor": 2
}
